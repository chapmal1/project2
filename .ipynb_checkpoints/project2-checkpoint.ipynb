{
 "cells": [
  {
   "cell_type": "markdown",
   "metadata": {},
   "source": [
    "<center><b>Final Project</b></center>\n",
    "\n",
    "Project Overview:\n",
    "\n",
    "The purpose of this project is to see the relationship between the price and points rating of different types of wine across the world. Economic theory implies that goods with higher prices tend to be of higher quality, but this is not always the case. This project focuses on the relationship of these two variables and we will use linear regression analysis to test this assumption.\n",
    "\n",
    "\n",
    "Project Structure:\n",
    "\n",
    "We will begin the project by going over how to import the data, acesss the information, and perform any premliminary data transformations to ensure that we don't run into errors. \n",
    "\n",
    "Next, we will provide summary statistics about price levels and point ratings for the wine. Then we will graph these basic statistics for visual understanding.\n",
    "\n",
    "After this, we will go over our assumptions for the linear regression model and what we expect to see in the predicted results. We will run the regression, analyze the output, and provide thoughts on the relationship between price and point rating, accounting for possible confounders, errors in our analysis, and what was done well. \n",
    "\n",
    "Data Report:\n",
    "\n",
    "The data we use for this project comes from the online data science community platform, Kaggle. Kaggle is an open source hub where people can import datasets and projects to solve real world problems that companies or professional entities face. In our case, a friendly user scraped data from the magazine WineEnthusiast in 2017, which we graciously use for this project. To access this data, click this link: https://www.kaggle.com/zynicide/wine-reviews. "
   ]
  },
  {
   "cell_type": "code",
   "execution_count": null,
   "metadata": {},
   "outputs": [],
   "source": []
  }
 ],
 "metadata": {
  "kernelspec": {
   "display_name": "Python 3",
   "language": "python",
   "name": "python3"
  },
  "language_info": {
   "codemirror_mode": {
    "name": "ipython",
    "version": 3
   },
   "file_extension": ".py",
   "mimetype": "text/x-python",
   "name": "python",
   "nbconvert_exporter": "python",
   "pygments_lexer": "ipython3",
   "version": "3.7.4"
  }
 },
 "nbformat": 4,
 "nbformat_minor": 2
}
